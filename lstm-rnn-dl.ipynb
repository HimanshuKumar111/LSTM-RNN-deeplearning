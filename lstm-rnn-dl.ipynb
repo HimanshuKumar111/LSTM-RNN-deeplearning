{
 "cells": [
  {
   "cell_type": "code",
   "execution_count": 1,
   "metadata": {
    "collapsed": true
   },
   "outputs": [],
   "source": [
    "import math\n",
    "import pickle as p\n",
    "import tensorflow as tf\n",
    "import numpy as np\n",
    "import utils\n",
    "import json"
   ]
  },
  {
   "cell_type": "code",
   "execution_count": 2,
   "metadata": {
    "collapsed": true
   },
   "outputs": [],
   "source": [
    "tweet_size = 20\n",
    "hidden_size = 100\n",
    "vocab_size = 7597\n",
    "batch_size = 64\n",
    "\n",
    "tf.reset_default_graph()\n",
    "session = tf.Session()"
   ]
  },
  {
   "cell_type": "code",
   "execution_count": 3,
   "metadata": {
    "collapsed": true
   },
   "outputs": [],
   "source": [
    "#Placeholder for variable data\n",
    "tweets = tf.placeholder(tf.float32, [None, tweet_size, vocab_size])\n",
    "labels = tf.placeholder(tf.float32,[None])"
   ]
  },
  {
   "cell_type": "code",
   "execution_count": 4,
   "metadata": {
    "collapsed": true
   },
   "outputs": [],
   "source": [
    "#Creating a LSTM Cell\n",
    "lstm_cell_1 = tf.contrib.rnn.LSTMCell(hidden_size)\n",
    "lstm_cell_2 = tf.contrib.rnn.LSTMCell(hidden_size)\n",
    "\n",
    "multi_lstm_cells = tf.contrib.rnn.MultiRNNCell(cells=[lstm_cell_1, lstm_cell_2] , state_is_tuple=True)\n",
    "\n",
    "_, final_state = tf.nn.dynamic_rnn(multi_lstm_cells, tweets, dtype=tf.float32)"
   ]
  },
  {
   "cell_type": "code",
   "execution_count": 5,
   "metadata": {
    "collapsed": true
   },
   "outputs": [],
   "source": [
    "#Computation graph\n",
    "def linear(input_, output_size, name, init_bias=0.0):\n",
    "    shape = input_.get_shape().as_list()\n",
    "    with tf.variable_scope(name):\n",
    "        W = tf.get_variable(\"weights\", [shape[-1], output_size], tf.float32, tf.random_normal_initializer(stddev=1.0/ math.sqrt(shape[-1])))\n",
    "    if init_bias is None:\n",
    "        return tf.matmul(input_, W)\n",
    "    with tf.variable_scope(name):\n",
    "        b = tf.get_variable(\"bias\", [output_size], initializer=tf.constant_initializer(init_bias))\n",
    "    return tf.matmul(input_, W) + b"
   ]
  },
  {
   "cell_type": "code",
   "execution_count": 6,
   "metadata": {
    "collapsed": true
   },
   "outputs": [],
   "source": [
    "sentiment = linear(final_state[-1][-1], 1, name=\"output\")"
   ]
  },
  {
   "cell_type": "code",
   "execution_count": 7,
   "metadata": {
    "collapsed": true
   },
   "outputs": [],
   "source": [
    "sentiment = tf.squeeze(sentiment, [1])\n",
    "\n",
    "loss = tf.nn.sigmoid_cross_entropy_with_logits(logits=sentiment, labels=labels)\n",
    "\n",
    "loss = tf.reduce_mean(loss)\n",
    "\n",
    "\n",
    "prediction = tf.to_float(tf.greater_equal(sentiment, 0.5))\n",
    "\n",
    "# error based on which predictions were actually correct.\n",
    "pred_err = tf.to_float(tf.not_equal(prediction, labels))\n",
    "pred_err = tf.reduce_sum(pred_err)"
   ]
  },
  {
   "cell_type": "code",
   "execution_count": 8,
   "metadata": {
    "collapsed": true
   },
   "outputs": [],
   "source": [
    "#Adam Optimizer\n",
    "optimizer = optimizer = tf.train.AdamOptimizer().minimize(loss)"
   ]
  },
  {
   "cell_type": "code",
   "execution_count": null,
   "metadata": {
    "collapsed": false
   },
   "outputs": [
    {
     "name": "stdout",
     "output_type": "stream",
     "text": [
      "('Minibatch train loss at step', 0, ':', 0.69294339)\n",
      "Minibatch train error: 31.000%\n",
      "Test loss: 0.693\n",
      "Test error: 32.400%\n",
      "('Minibatch train loss at step', 50, ':', 0.54542744)\n",
      "Minibatch train error: 18.000%\n",
      "Test loss: 0.622\n",
      "Test error: 23.133%\n",
      "('Minibatch train loss at step', 100, ':', 0.58914423)\n",
      "Minibatch train error: 24.000%\n",
      "Test loss: 0.587\n",
      "Test error: 20.867%\n",
      "('Minibatch train loss at step', 150, ':', 0.55748916)\n",
      "Minibatch train error: 16.000%\n",
      "Test loss: 0.579\n",
      "Test error: 21.067%\n",
      "('Minibatch train loss at step', 200, ':', 0.50980115)\n",
      "Minibatch train error: 21.000%\n",
      "Test loss: 0.549\n",
      "Test error: 17.800%\n",
      "('Minibatch train loss at step', 250, ':', 0.45237139)\n",
      "Minibatch train error: 16.000%\n",
      "Test loss: 0.533\n",
      "Test error: 17.400%\n",
      "('Minibatch train loss at step', 300, ':', 0.58682764)\n",
      "Minibatch train error: 22.000%\n",
      "Test loss: 0.535\n",
      "Test error: 18.933%\n",
      "('Minibatch train loss at step', 350, ':', 0.53952253)\n",
      "Minibatch train error: 23.000%\n"
     ]
    }
   ],
   "source": [
    "\n",
    "tf.global_variables_initializer().run(session=session)\n",
    "\n",
    "# Training data\n",
    "train_data = json.load(open('data/trainTweets_preprocessed.json', 'r'))\n",
    "train_data = list(map(lambda row:(np.array(row[0],dtype=np.int32),str(row[1])),train_data))\n",
    "train_tweets = np.array([t[0] for t in train_data])\n",
    "train_labels = np.array([int(t[1]) for t in train_data])\n",
    "#Test Data\n",
    "test_data = json.load(open('data/testTweets_preprocessed.json', 'r'))\n",
    "test_data = list(map(lambda row:(np.array(row[0],dtype=np.int32),str(row[1])),test_data))\n",
    "test_data = test_data[0:1000] \n",
    "test_tweets = np.array([t[0] for t in test_data])\n",
    "one_hot_test_tweets = utils.one_hot(test_tweets, vocab_size)\n",
    "test_labels = np.array([int(t[1]) for t in test_data])\n",
    "\n",
    "num_steps = 1000\n",
    "\n",
    "for step in range(num_steps):\n",
    "    offset = (step * batch_size) % (len(train_data) - batch_size)\n",
    "    batch_tweets = utils.one_hot(train_tweets[offset : (offset + batch_size)], vocab_size)\n",
    "    batch_labels = train_labels[offset : (offset + batch_size)]\n",
    "    data = {tweets: batch_tweets, labels: batch_labels}\n",
    "    \n",
    "    _, loss_value_train, error_value_train = session.run(\n",
    "      [optimizer, loss, pred_err], feed_dict=data)\n",
    "    \n",
    "    \n",
    "    if (step % 50 == 0):\n",
    "        print(\"Minibatch train loss at step\", step, \":\", loss_value_train)\n",
    "        print(\"Minibatch train error: %.3f%%\" % error_value_train)\n",
    "        \n",
    "        #  test evaluation\n",
    "        test_loss = []\n",
    "        test_error = []\n",
    "        for batch_num in range(int(len(test_data)/batch_size)):\n",
    "            test_offset = (batch_num * batch_size) % (len(test_data) - batch_size)\n",
    "            test_batch_tweets = one_hot_test_tweets[test_offset : (test_offset + batch_size)]\n",
    "            test_batch_labels = test_labels[test_offset : (test_offset + batch_size)]\n",
    "            data_testing = {tweets: test_batch_tweets, labels: test_batch_labels}\n",
    "            loss_value_test, error_value_test = session.run([loss, pred_err], feed_dict=data_testing)\n",
    "            test_loss.append(loss_value_test)\n",
    "            test_error.append(error_value_test)\n",
    "        \n",
    "        print(\"Test loss: %.3f\" % np.mean(test_loss))\n",
    "        print(\"Test error: %.3f%%\" % np.mean(test_error))"
   ]
  },
  {
   "cell_type": "code",
   "execution_count": null,
   "metadata": {
    "collapsed": true
   },
   "outputs": [],
   "source": []
  }
 ],
 "metadata": {
  "kernelspec": {
   "display_name": "intro_dl",
   "language": "python",
   "name": "intro_dl"
  },
  "language_info": {
   "codemirror_mode": {
    "name": "ipython",
    "version": 2
   },
   "file_extension": ".py",
   "mimetype": "text/x-python",
   "name": "python",
   "nbconvert_exporter": "python",
   "pygments_lexer": "ipython2",
   "version": "2.7.10"
  }
 },
 "nbformat": 4,
 "nbformat_minor": 2
}
